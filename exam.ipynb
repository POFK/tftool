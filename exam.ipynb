{
 "cells": [
  {
   "cell_type": "markdown",
   "metadata": {},
   "source": [
    "## Training"
   ]
  },
  {
   "cell_type": "code",
   "execution_count": null,
   "metadata": {},
   "outputs": [],
   "source": [
    "name = 'test_003'\n",
    "batch_size = 64\n",
    "model_basename = 'NetworkTest'\n",
    "train_steps = 1100\n",
    "import sys; sys.argv=['', \n",
    "                      '--log_dir', '/data/dell5/userdir/maotx/DSC/log/%s'%name, \n",
    "                      '--model_dir', '/data/dell5/userdir/maotx/DSC/model/%s'%name, \n",
    "                      '--batch_size', '%d'%batch_size,\n",
    "                      '--model_basename', model_basename,\n",
    "                      '--train_steps', '%d'%train_steps,\n",
    "                      '--learning_rate', '1e-4',\n",
    "                     ];\n",
    "del sys"
   ]
  },
  {
   "cell_type": "code",
   "execution_count": null,
   "metadata": {},
   "outputs": [],
   "source": [
    "import tensorflow as tf\n",
    "tf.logging.set_verbosity(tf.logging.INFO)"
   ]
  },
  {
   "cell_type": "code",
   "execution_count": null,
   "metadata": {},
   "outputs": [],
   "source": [
    "from tftool.main import Main"
   ]
  },
  {
   "cell_type": "code",
   "execution_count": null,
   "metadata": {},
   "outputs": [],
   "source": [
    "dsc = Main()\n",
    "print dsc.FLAGS"
   ]
  },
  {
   "cell_type": "code",
   "execution_count": null,
   "metadata": {},
   "outputs": [],
   "source": [
    "dsc.opt = tf.train.AdamOptimizer\n",
    "dsc.Is_summary = True\n",
    "dsc.update_log_step =100\n",
    "dsc.save_per_steps = 1000\n",
    "dsc.print_log = True \n",
    "dsc.valid_size = 6144    "
   ]
  },
  {
   "cell_type": "code",
   "execution_count": null,
   "metadata": {},
   "outputs": [],
   "source": [
    "dsc()"
   ]
  },
  {
   "cell_type": "markdown",
   "metadata": {},
   "source": [
    "---\n",
    "## Evaluation"
   ]
  },
  {
   "cell_type": "code",
   "execution_count": null,
   "metadata": {},
   "outputs": [],
   "source": [
    "import numpy as np\n",
    "data_test = np.load('/data/dell5/userdir/maotx/DSC/data/test.npy')"
   ]
  },
  {
   "cell_type": "code",
   "execution_count": null,
   "metadata": {},
   "outputs": [],
   "source": [
    "loss, prob = dsc.eval(path='/data/dell5/userdir/maotx/DSC/data/test.npy')"
   ]
  },
  {
   "cell_type": "code",
   "execution_count": null,
   "metadata": {},
   "outputs": [],
   "source": [
    "print prob\n",
    "bool_gt = data_test['label']\n",
    "bool_es = prob.argmax(axis=1)\n",
    "size_eval = data_test.shape[0]\n",
    "print np.sum(bool_gt*bool_es)/float(size_eval)  # d -> d\n",
    "print np.sum((1-bool_gt)*(1-bool_es))/float(size_eval)  # s -> s\n",
    "print np.sum(bool_gt*(1-bool_es))/float(size_eval)  # d -> s\n",
    "print np.sum((1-bool_gt)*bool_es)/float(size_eval)  # s -> d"
   ]
  },
  {
   "cell_type": "code",
   "execution_count": null,
   "metadata": {},
   "outputs": [],
   "source": []
  }
 ],
 "metadata": {
  "kernelspec": {
   "display_name": "Python 2",
   "language": "python",
   "name": "python2"
  },
  "language_info": {
   "codemirror_mode": {
    "name": "ipython",
    "version": 2
   },
   "file_extension": ".py",
   "mimetype": "text/x-python",
   "name": "python",
   "nbconvert_exporter": "python",
   "pygments_lexer": "ipython2",
   "version": "2.7.3"
  }
 },
 "nbformat": 4,
 "nbformat_minor": 2
}
