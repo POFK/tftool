{
 "cells": [
  {
   "cell_type": "markdown",
   "metadata": {},
   "source": [
    "An example for converting npy data to TFrecords format. Further detailed example see [here](https://github.com/POFK/ICR/blob/TFRecords_pipeline/distributed/MultiGPUs/creatdata/)."
   ]
  },
  {
   "cell_type": "code",
   "execution_count": 1,
   "metadata": {},
   "outputs": [],
   "source": [
    "import os\n",
    "import numpy as np\n",
    "import tensorflow as tf"
   ]
  },
  {
   "cell_type": "markdown",
   "metadata": {},
   "source": [
    "Define corresponding data type."
   ]
  },
  {
   "cell_type": "code",
   "execution_count": 2,
   "metadata": {},
   "outputs": [],
   "source": [
    "def _int64_feature(value):\n",
    "    return tf.train.Feature(int64_list=tf.train.Int64List(value=[value]))\n",
    "\n",
    "def _bytes_feature(value):\n",
    "    return tf.train.Feature(bytes_list=tf.train.BytesList(value=[value]))\n",
    "\n",
    "def _float_feature(value):\n",
    "    return tf.train.Feature(float_list=tf.train.FloatList(value=value))"
   ]
  },
  {
   "cell_type": "markdown",
   "metadata": {},
   "source": [
    "Rewrite the following functions for different dataset."
   ]
  },
  {
   "cell_type": "code",
   "execution_count": 3,
   "metadata": {},
   "outputs": [],
   "source": [
    "def convert_to(data_set, Dir, name):\n",
    "    \"\"\"Converts a dataset to tfrecords.\"\"\"\n",
    "    features = data_set.features\n",
    "    labels = data_set.labels\n",
    "    num_examples = data_set.num_examples\n",
    "\n",
    "    if features.shape[0] != num_examples:\n",
    "        raise ValueError('Features size %d does not match label size %d.' %\n",
    "                         (features.shape[0], num_examples))\n",
    "\n",
    "    filename = os.path.join(Dir, name + '.tfrecords')\n",
    "    print('Writing', filename)\n",
    "    writer = tf.python_io.TFRecordWriter(filename)\n",
    "    for index in xrange(num_examples):\n",
    "        data_set.index = index\n",
    "        feature_raw = features[index].reshape(-1).tolist()\n",
    "        label_raw = labels[index].reshape(-1).tolist()\n",
    "        example = tf.train.Example(features=tf.train.Features(feature={\n",
    "            'index': _int64_feature(data_set.index),\n",
    "            'label_raw': _float_feature(label_raw),\n",
    "            'feature_raw': _float_feature(feature_raw)}))\n",
    "        writer.write(example.SerializeToString())\n",
    "    writer.close()"
   ]
  },
  {
   "cell_type": "code",
   "execution_count": 4,
   "metadata": {},
   "outputs": [],
   "source": [
    "def main():\n",
    "    # Get the data.\n",
    "    class data_set():\n",
    "        pass\n",
    "\n",
    "    data = np.load('/home/maotx/git/DSclassify/data/small_flux_resample.npy')\n",
    "    Len = data.shape[0]\n",
    "    features = data['flux']\n",
    "    labels = data['label'].reshape(-1,1)\n",
    "  \n",
    "    data_set.features = features\n",
    "    data_set.labels = labels\n",
    "    data_set.num_examples = Len\n",
    "\n",
    "    convert_to(data_set, Dir='/data/dell5/userdir/maotx/DSC/data', name='test')"
   ]
  },
  {
   "cell_type": "markdown",
   "metadata": {},
   "source": [
    "Run the convert code."
   ]
  },
  {
   "cell_type": "code",
   "execution_count": 5,
   "metadata": {},
   "outputs": [
    {
     "name": "stdout",
     "output_type": "stream",
     "text": [
      "('Writing', '/data/dell5/userdir/maotx/DSC/data/test.tfrecords')\n"
     ]
    }
   ],
   "source": [
    "main()"
   ]
  }
 ],
 "metadata": {
  "kernelspec": {
   "display_name": "Python 2",
   "language": "python",
   "name": "python2"
  },
  "language_info": {
   "codemirror_mode": {
    "name": "ipython",
    "version": 2
   },
   "file_extension": ".py",
   "mimetype": "text/x-python",
   "name": "python",
   "nbconvert_exporter": "python",
   "pygments_lexer": "ipython2",
   "version": "2.7.3"
  }
 },
 "nbformat": 4,
 "nbformat_minor": 2
}
