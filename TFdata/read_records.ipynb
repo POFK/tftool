{
 "cells": [
  {
   "cell_type": "markdown",
   "metadata": {},
   "source": [
    "An example for reading the TFrecords format data. It should be combined into the InputPipeline class later."
   ]
  },
  {
   "cell_type": "code",
   "execution_count": 1,
   "metadata": {},
   "outputs": [],
   "source": [
    "import tensorflow as tf\n",
    "Len = 4000"
   ]
  },
  {
   "cell_type": "code",
   "execution_count": 2,
   "metadata": {},
   "outputs": [],
   "source": [
    "def parse_fn(example):\n",
    "    \"Parse TFExample records and perform simple data augmentation.\"\n",
    "    example_fmt = {\n",
    "        \"index\": tf.FixedLenFeature([], tf.int64),\n",
    "        \"feature_raw\": tf.FixedLenFeature([Len], tf.float32),\n",
    "        \"label_raw\": tf.FixedLenFeature([], tf.float32)\n",
    "    }\n",
    "    parsed = tf.parse_single_example(example, example_fmt)\n",
    "    feature = parsed['feature_raw']\n",
    "    label = parsed['label_raw']\n",
    "    #-------------preprocessing--------------\n",
    "    feature = tf.reshape(feature, [Len])\n",
    "    label = tf.reshape(label, [])\n",
    "    #-------------preprocessing--------------\n",
    "    return feature, label"
   ]
  },
  {
   "cell_type": "code",
   "execution_count": 3,
   "metadata": {},
   "outputs": [],
   "source": [
    "def input_fn():\n",
    "    filenames = '/data/dell5/userdir/maotx/DSC/data/test.tfrecords'\n",
    "    dataset = tf.data.TFRecordDataset(filenames)\n",
    "#   dataset = dataset.shuffle(buffer_size=FLAGS.shuffle_buffer_size)\n",
    "    dataset = dataset.map(parse_fn)\n",
    "    dataset = dataset.repeat(2)\n",
    "    dataset = dataset.batch(batch_size=10)\n",
    "    iterator = dataset.make_initializable_iterator()\n",
    "    tf.add_to_collection('iterator',iterator)\n",
    "    next_element = iterator.get_next()\n",
    "    return next_element"
   ]
  },
  {
   "cell_type": "markdown",
   "metadata": {},
   "source": [
    "The following are some simple tests."
   ]
  },
  {
   "cell_type": "code",
   "execution_count": 4,
   "metadata": {},
   "outputs": [
    {
     "name": "stdout",
     "output_type": "stream",
     "text": [
      "INFO:tensorflow:Graph was finalized.\n",
      "INFO:tensorflow:Running local_init_op.\n",
      "INFO:tensorflow:Done running local_init_op.\n",
      "(10, 4000) (10,)\n"
     ]
    },
    {
     "data": {
      "image/png": "[encoded data removed]",
      "text/plain": [
       "<Figure size 432x288 with 1 Axes>"
      ]
     },
     "metadata": {},
     "output_type": "display_data"
    },
    {
     "name": "stdout",
     "output_type": "stream",
     "text": [
      "(10, 4000) (10,)\n",
      "(10, 4000) (10,)\n",
      "(10, 4000) (10,)\n",
      "(10, 4000) (10,)\n",
      "(10, 4000) (10,)\n",
      "(10, 4000) (10,)\n",
      "(10, 4000) (10,)\n",
      "(10, 4000) (10,)\n",
      "(10, 4000) (10,)\n",
      "(10, 4000) (10,)\n",
      "(10, 4000) (10,)\n",
      "(10, 4000) (10,)\n",
      "(10, 4000) (10,)\n",
      "(10, 4000) (10,)\n",
      "(10, 4000) (10,)\n",
      "(10, 4000) (10,)\n",
      "(10, 4000) (10,)\n",
      "(10, 4000) (10,)\n",
      "(10, 4000) (10,)\n",
      "(10, 4000) (10,)\n",
      "(10, 4000) (10,)\n",
      "(10, 4000) (10,)\n",
      "(10, 4000) (10,)\n",
      "(10, 4000) (10,)\n",
      "(10, 4000) (10,)\n",
      "(10, 4000) (10,)\n",
      "(10, 4000) (10,)\n",
      "(10, 4000) (10,)\n",
      "(10, 4000) (10,)\n",
      "(10, 4000) (10,)\n",
      "(10, 4000) (10,)\n",
      "(10, 4000) (10,)\n",
      "(10, 4000) (10,)\n",
      "(10, 4000) (10,)\n",
      "(10, 4000) (10,)\n",
      "(10, 4000) (10,)\n",
      "(10, 4000) (10,)\n",
      "(10, 4000) (10,)\n",
      "(10, 4000) (10,)\n",
      "(10, 4000) (10,)\n",
      "(10, 4000) (10,)\n",
      "(10, 4000) (10,)\n",
      "(10, 4000) (10,)\n",
      "(10, 4000) (10,)\n",
      "(10, 4000) (10,)\n",
      "(10, 4000) (10,)\n",
      "(10, 4000) (10,)\n",
      "(10, 4000) (10,)\n",
      "(10, 4000) (10,)\n",
      "(10, 4000) (10,)\n",
      "(10, 4000) (10,)\n",
      "(10, 4000) (10,)\n",
      "(10, 4000) (10,)\n",
      "(10, 4000) (10,)\n",
      "(10, 4000) (10,)\n",
      "(10, 4000) (10,)\n",
      "(10, 4000) (10,)\n",
      "(10, 4000) (10,)\n",
      "(10, 4000) (10,)\n",
      "(10, 4000) (10,)\n",
      "(10, 4000) (10,)\n",
      "(10, 4000) (10,)\n",
      "(10, 4000) (10,)\n",
      "(10, 4000) (10,)\n",
      "(10, 4000) (10,)\n",
      "(10, 4000) (10,)\n",
      "(10, 4000) (10,)\n",
      "(10, 4000) (10,)\n",
      "(10, 4000) (10,)\n",
      "(10, 4000) (10,)\n",
      "(10, 4000) (10,)\n",
      "(10, 4000) (10,)\n",
      "(10, 4000) (10,)\n",
      "(10, 4000) (10,)\n",
      "(10, 4000) (10,)\n",
      "(10, 4000) (10,)\n",
      "(10, 4000) (10,)\n",
      "(10, 4000) (10,)\n",
      "(10, 4000) (10,)\n",
      "(10, 4000) (10,)\n",
      "(10, 4000) (10,)\n",
      "(10, 4000) (10,)\n",
      "(10, 4000) (10,)\n",
      "(10, 4000) (10,)\n",
      "(10, 4000) (10,)\n",
      "(10, 4000) (10,)\n",
      "(10, 4000) (10,)\n",
      "(10, 4000) (10,)\n",
      "(10, 4000) (10,)\n",
      "(10, 4000) (10,)\n",
      "(10, 4000) (10,)\n",
      "(10, 4000) (10,)\n",
      "(10, 4000) (10,)\n",
      "(10, 4000) (10,)\n",
      "(10, 4000) (10,)\n",
      "(10, 4000) (10,)\n",
      "(10, 4000) (10,)\n",
      "(10, 4000) (10,)\n",
      "(10, 4000) (10,)\n",
      "(10, 4000) (10,)\n"
     ]
    }
   ],
   "source": [
    "import matplotlib.pyplot as plt\n",
    "import numpy as np\n",
    "dataset_test = input_fn()\n",
    "\n",
    "with tf.train.MonitoredTrainingSession() as sess:\n",
    "    sess.run(tf.get_collection('iterator')[0].initializer)\n",
    "    features_records, labels_records = sess.run(dataset_test)\n",
    "    print features_records.shape, labels_records.shape\n",
    "    plt.plot(features_records[5])\n",
    "    plt.show()\n",
    "    # boundary test\n",
    "    for i in xrange(100):\n",
    "        t1, t2 = sess.run(dataset_test)\n",
    "        print t1.shape, t2.shape"
   ]
  },
  {
   "cell_type": "code",
   "execution_count": 5,
   "metadata": {},
   "outputs": [
    {
     "name": "stdout",
     "output_type": "stream",
     "text": [
      "True\n",
      "True\n"
     ]
    }
   ],
   "source": [
    "data = np.load('/home/maotx/git/DSclassify/data/small_flux_resample.npy')\n",
    "features_np = data['flux'][:10]\n",
    "labels_np = data['label'][:10]\n",
    "print np.allclose(features_np, features_records)\n",
    "print np.allclose(labels_np, labels_records)"
   ]
  }
 ],
 "metadata": {
  "kernelspec": {
   "display_name": "Python 2",
   "language": "python",
   "name": "python2"
  },
  "language_info": {
   "codemirror_mode": {
    "name": "ipython",
    "version": 2
   },
   "file_extension": ".py",
   "mimetype": "text/x-python",
   "name": "python",
   "nbconvert_exporter": "python",
   "pygments_lexer": "ipython2",
   "version": "2.7.3"
  }
 },
 "nbformat": 4,
 "nbformat_minor": 2
}
